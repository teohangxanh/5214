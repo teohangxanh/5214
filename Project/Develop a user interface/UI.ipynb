{
 "cells": [
  {
   "cell_type": "code",
   "execution_count": 1,
   "metadata": {
    "collapsed": true
   },
   "outputs": [],
   "source": [
    "from tkinter import Tk, Label, Button, IntVar, BooleanVar, Radiobutton, messagebox, simpledialog\n",
    "import pandas as pd\n",
    "import Cleaning.Cleaning_data as cleaning\n",
    "import Cleaning.Preprocessing as preprocessing\n",
    "import Unsupervised_Learning.Unsupervised as ul\n",
    "import Supervised_Learning.ML_Supervised as svml\n",
    "import Supervised_Learning.DL_Supervised as svdl\n",
    "import sys\n",
    "\n",
    "#########################    Setting up part   #########################\n",
    "'''\n",
    "This will be used in the real scenario\n",
    "file_name = 'New_York_reviews.csv'\n",
    "cleaned_data_path = cleaning.clean_data(file_name)\n",
    "\n",
    "'''\n",
    "cleaned_data_path = 'cleaned data.pkl'\n",
    "cleaned_data = pd.read_pickle(cleaned_data_path)\n",
    "rest_list = cleaned_data['restaurant_id'].unique().tolist()\n",
    "\n",
    "\n",
    "# https://pythonguides.com/python-tkinter-messagebox/\n",
    "\n",
    "def save_btn():\n",
    "    messagebox.showinfo(f'{answered_rest_id} restaurant',\n",
    "                        f'Thank you for your input! We will email you the report when it\\'s ready! Please close this app after done.')\n",
    "\n",
    "\n",
    "app = Tk()\n",
    "model_choice = IntVar()\n",
    "vis_choice = BooleanVar()\n",
    "vis_choice.set(1)\n",
    "model_y = 70\n",
    "report_y = 200\n",
    "\n",
    "app.geometry('500x500')\n",
    "app.title('Welcome')\n",
    "\n",
    "# Verify if the right user\n",
    "answered_rest_id = simpledialog.askinteger(\"Input\", \"What is your restaurant id?\",\n",
    "                                           parent=app, minvalue=min(rest_list), maxvalue=max(rest_list))\n",
    "trial_count = 1\n",
    "while trial_count < 3 and int(answered_rest_id) not in rest_list:\n",
    "    trial_count += 1\n",
    "    answered_rest_id = simpledialog.askinteger(\"Input\", f\"Wrong. You have {3 - trial_count} attemps!\",\n",
    "                                               parent=app, minvalue=min(rest_list), maxvalue=max(rest_list))\n",
    "\n",
    "Label(app, text='Welcome to the restaurant app!', bg='yellow', relief='solid', font=18).pack()\n",
    "\n",
    "Label(app, text='Please choose the type of model', font=10).place(x=30, y=model_y)\n",
    "model1_btn = Radiobutton(app, text='Highest accuracy, long training time', variable=model_choice, value=1)\n",
    "model1_btn.place(x=30, y=model_y + 30)\n",
    "model2_btn = Radiobutton(app, text='High accuracy, medium training time', variable=model_choice, value=2)\n",
    "model2_btn.place(x=30, y=model_y + 50)\n",
    "model3_btn = Radiobutton(app, text='Accepted accuracy, fast training time', variable=model_choice, value=3)\n",
    "model3_btn.place(x=30, y=model_y + 70)\n",
    "\n",
    "Label(app, text='Which report do you want?', font=10).place(x=30, y=report_y)\n",
    "vis1_btn = Radiobutton(app, text='Visualized report', variable=vis_choice, value=True)\n",
    "vis1_btn.place(x=30, y=report_y + 30)\n",
    "vis1_btn = Radiobutton(app, text='Plain report', variable=vis_choice, value=False)\n",
    "vis1_btn.place(x=200, y=report_y + 30)\n",
    "\n",
    "Button(app, text='Submit', command=save_btn).place(x=200, y=300)\n",
    "app.mainloop()"
   ]
  },
  {
   "cell_type": "code",
   "execution_count": 2,
   "outputs": [
    {
     "name": "stderr",
     "output_type": "stream",
     "text": [
      "D:\\BitBucket\\5214\\Project\\Code\\Supervised_Learning\\DL_Supervised.py:133: VisibleDeprecationWarning: Creating an ndarray from ragged nested sequences (which is a list-or-tuple of lists-or-tuples-or ndarrays with different lengths or shapes) is deprecated. If you meant to do this, you must specify 'dtype=object' when creating the ndarray.\n",
      "  reviews['encoded'] = reviews['review'].apply(lambda x: np.array(encode_sentence(x, vocab2index)))\n"
     ]
    },
    {
     "name": "stdout",
     "output_type": "stream",
     "text": [
      "train loss 1.492, val loss 1.259, val accuracy 0.599, and val rmse 1.080\n",
      "train loss 1.030, val loss 1.044, val accuracy 0.601, and val rmse 1.081\n",
      "train loss 1.014, val loss 1.039, val accuracy 0.600, and val rmse 1.077\n",
      "train loss 1.000, val loss 1.043, val accuracy 0.600, and val rmse 1.082\n",
      "train loss 0.983, val loss 1.042, val accuracy 0.598, and val rmse 1.078\n",
      "train loss 0.961, val loss 1.048, val accuracy 0.597, and val rmse 1.075\n"
     ]
    }
   ],
   "source": [
    "#########################    Machine Learning part   #########################\n",
    "'''\n",
    "    This will be used in the real case to filer reviews on the restaurant of the given id to the system\n",
    "    preprocessing.pick_rest(cleaned_data, rest_id)\n",
    "'''\n",
    "# For example, the id is 332\n",
    "file_name = f'preprocessed restaurant {answered_rest_id}.pkl'\n",
    "\n",
    "# Supervised\n",
    "if model_choice.get() in [1, 2]:\n",
    "    svml.finalize(file_name, model_choice.get())\n",
    "elif model_choice.get() == 3:\n",
    "    svdl.finalize(file_name)\n",
    "else:\n",
    "    print('There are only three model choices. Please run this app again.')\n",
    "    sys.exit()\n",
    "\n",
    "# Unsupervised\n",
    "cleaned_data = pd.read_pickle(file_name)\n",
    "reviews = pd.Series(cleaned_data['review_full']).tolist()\n",
    "\n",
    "'''\n",
    "This will be used in the real case\n",
    "cleaned_data['review_full'] = cleaned_data['review_full'].apply(lambda row: preprocessing.clean_text(row))\n",
    "'''\n",
    "\n",
    "# Popularly accepted criteria for restaurants from https://owlcation.com/humanities/How-to-Write-a-Restaurant-Review-With-Examples\n",
    "criteria = 'food service interior exterior ambiance cleanliness value'\n",
    "if vis_choice.get():\n",
    "    ul.generate_wordcloud(reviews)\n",
    "    ul.generate_report(' '.join(reviews), criteria, visualized=True)\n",
    "else:\n",
    "    ul.generate_report(' '.join(reviews), criteria, visualized=False)"
   ],
   "metadata": {
    "collapsed": false
   }
  }
 ],
 "metadata": {
  "kernelspec": {
   "display_name": "Python 3",
   "language": "python",
   "name": "python3"
  },
  "language_info": {
   "codemirror_mode": {
    "name": "ipython",
    "version": 2
   },
   "file_extension": ".py",
   "mimetype": "text/x-python",
   "name": "python",
   "nbconvert_exporter": "python",
   "pygments_lexer": "ipython2",
   "version": "2.7.6"
  }
 },
 "nbformat": 4,
 "nbformat_minor": 0
}
